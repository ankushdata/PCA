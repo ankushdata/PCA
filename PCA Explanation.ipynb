{
 "cells": [
  {
   "cell_type": "markdown",
   "metadata": {},
   "source": [
    "### Why Principal Componenet Analysis(PCA)?\n",
    "PCA ( Principal Component Analysis ) helps in producing low dimensional representation of the dataset by identifying a set of linear combination of features which have maximum variance and are mutually un-correlated. This linear dimensionality technique could be helpful in understanding latent interaction between the variable in an unsupervised setting."
   ]
  },
  {
   "cell_type": "code",
   "execution_count": 1,
   "metadata": {},
   "outputs": [],
   "source": [
    "#### Popular Example of PCA -  Using PCA on the iris dataset.\n",
    "import pandas as pd\n",
    "url = \"https://archive.ics.uci.edu/ml/machine-learning-databases/iris/iris.data\"\n",
    "# load dataset into Pandas DataFrame\n",
    "df = pd.read_csv(url, names=['sepal length','sepal width','petal length','petal width','target'])"
   ]
  },
  {
   "cell_type": "code",
   "execution_count": 2,
   "metadata": {},
   "outputs": [],
   "source": [
    "# Firstly we are standardizing the data. By using the sklearn preprocessing methodology\n",
    "from sklearn.preprocessing import StandardScaler\n",
    "features = ['sepal length', 'sepal width', 'petal length', 'petal width']\n",
    "# Separating out the features\n",
    "x = df.loc[:, features].values\n",
    "# Separating out the target\n",
    "y = df.loc[:,['target']].values\n",
    "# Standardizing the features\n",
    "x = StandardScaler().fit_transform(x)\n",
    "\n",
    "# Why ScalarStandardScaler ?  Because it helps to standardize the dataset’s features onto unit scale.\n",
    "# By unit scale we should understand that (mean = 0 and variance = 1)."
   ]
  },
  {
   "cell_type": "code",
   "execution_count": 4,
   "metadata": {},
   "outputs": [],
   "source": [
    "## Reducing the Projection of the datasets.  Lets write the script first:\n",
    "from sklearn.decomposition import PCA\n",
    "pca = PCA(n_components=2)      # Reducing the dimensions from original four to two.\n",
    "principalComponents = pca.fit_transform(x)\n",
    "principalDf = pd.DataFrame(data = principalComponents\n",
    "             , columns = ['principal component 1', 'principal component 2'])\n",
    "\n",
    "#  After dimensionality reduction, there usually isn’t a particular meaning assigned to each principal component.\n",
    "# That is why we are just giving the columns new names."
   ]
  },
  {
   "cell_type": "code",
   "execution_count": 5,
   "metadata": {},
   "outputs": [],
   "source": [
    "finalDf = pd.concat([principalDf, df[['target']]], axis = 1)\n"
   ]
  },
  {
   "cell_type": "code",
   "execution_count": null,
   "metadata": {},
   "outputs": [],
   "source": []
  },
  {
   "cell_type": "markdown",
   "metadata": {},
   "source": [
    "[ Below points are taken from this post](https://galaxydatatech.com/2018/07/12/principal-component-analysis/)"
   ]
  },
  {
   "cell_type": "markdown",
   "metadata": {},
   "source": [
    "### How Principal Component Analysis Works\n",
    "Principal component analysis creates a new set of features from the old set of features. The new set of features has the following properties;\n",
    "\n",
    "* The new set of features have zero correlation between the features.\n",
    "* The new set of features are linear combination of the old features.\n",
    "* The axes of these new features are called the principal components.\n",
    "* The first principal component has the largest variance followed by the second principal component and so on.\n",
    "* The principal components are orthogonal.\n",
    "* The variance in principal components decreases from the first principal component to the last one."
   ]
  },
  {
   "cell_type": "markdown",
   "metadata": {},
   "source": [
    "When creating new set of features from the old features we compute the variance of the features and select the features that yield the highest variance. This forms the first principal component. This process continues as we go to the second, third and more principal components.There are various approaches that we can use to come up with principal components.\n",
    "Below is a summary of the approaches of finding the principal components;\n",
    "\n",
    "* Maximizing the variance\n",
    "* Maximizing the reconstruction error\n",
    "* Eigen-decomposition.\n",
    "* Singular Value Decomposition.\n",
    "\n"
   ]
  },
  {
   "cell_type": "markdown",
   "metadata": {},
   "source": [
    "### Below are simple steps on implementing the PCA.\n",
    "\n",
    "* Data standardization.\n",
    "* Computing the covariance matrix.\n",
    "* Computing the Eigenvectors and Eigenvectors for the covariance matrix.\n",
    "* Selecting the components starting with largest to smallest Eigenvalues.\n",
    "* Creating the principal components."
   ]
  },
  {
   "cell_type": "markdown",
   "metadata": {},
   "source": [
    "### When To Use Principal Component Analysis\n",
    "* When reducing the dimensionality of data.\n",
    "* For feature Extraction.\n",
    "* When determining the linear combinations of variables.\n",
    "* When understanding the structure of the data set.\n",
    "* When visualizing high dimensional data."
   ]
  },
  {
   "cell_type": "code",
   "execution_count": 6,
   "metadata": {},
   "outputs": [
    {
     "name": "stdout",
     "output_type": "stream",
     "text": [
      "Components \n",
      " [[-0.31213838 -0.25696512 -0.2538881  -0.30749468 -0.41229917 -0.29388507\n",
      "  -0.39163385 -0.27649243 -0.28097608 -0.33525316]\n",
      " [-0.06484715 -0.26535727  0.3315649  -0.20846796  0.04632287  0.53435448\n",
      "  -0.52066736 -0.10066855  0.45057179 -0.00787845]\n",
      " [ 0.33597609 -0.31319697 -0.37472219 -0.29416319  0.33028526 -0.18527206\n",
      "   0.13075773 -0.50428391  0.23307695  0.304861  ]\n",
      " [-0.20049882 -0.38186971  0.09223148  0.70035028  0.03646774 -0.41048616\n",
      "  -0.0940914  -0.08206542  0.35771153 -0.04005417]]\n",
      "\n",
      "\n",
      "Explained Variance  [24.44961769  2.01831723  1.65967551  1.25125414]\n",
      "original shape:    (200, 10)\n",
      "Transform: (200, 4)\n",
      "Inverse Transform  (200, 10)\n"
     ]
    }
   ],
   "source": [
    "### Looking for the Principal Components in Python\n",
    "\n",
    "from sklearn.decomposition import PCA\n",
    "import numpy as np\n",
    " \n",
    "rng = np.random.RandomState(5)\n",
    "X = np.dot(rng.rand(10, 10), rng.randn(10, 200)).T\n",
    " \n",
    "pca = PCA(n_components=4)\n",
    "pca.fit(X)\n",
    "X_pca = pca.transform(X)\n",
    "X_new = pca.inverse_transform(X_pca)\n",
    " \n",
    "print(\"Components \\n\",pca.components_)\n",
    "print(\"\\n\\nExplained Variance \",pca.explained_variance_)\n",
    "print(\"original shape:   \", X.shape)\n",
    "print(\"Transform:\", X_pca.shape)\n",
    "print(\"Inverse Transform \",X_new.shape)"
   ]
  },
  {
   "cell_type": "code",
   "execution_count": 7,
   "metadata": {},
   "outputs": [
    {
     "name": "stdout",
     "output_type": "stream",
     "text": [
      "\n",
      "\n",
      "Explained Variance  [25.05148803  2.01335341  1.33676588  1.14353196]\n",
      "\n",
      "\n",
      "Explained Variance Ratio   [0.8079557  0.06493428 0.04311311 0.03688097]\n",
      "\n",
      "\n",
      "Cummulative Sum   [25.05148803 27.06484144 28.40160732 29.54513928]\n"
     ]
    }
   ],
   "source": [
    "### Explained Variance\n",
    "\n",
    "from sklearn.decomposition import PCA\n",
    "import numpy as np\n",
    " \n",
    "rng = np.random.RandomState(4)\n",
    "X = np.dot(rng.rand(10, 10), rng.randn(10, 200)).T\n",
    " \n",
    "pca = PCA(n_components=4)\n",
    "pca.fit(X)\n",
    " \n",
    "print(\"\\n\\nExplained Variance \",pca.explained_variance_)\n",
    "print(\"\\n\\nExplained Variance Ratio  \", pca.explained_variance_ratio_)\n",
    "print(\"\\n\\nCummulative Sum  \", np.cumsum(pca.explained_variance_))"
   ]
  },
  {
   "cell_type": "code",
   "execution_count": 9,
   "metadata": {},
   "outputs": [
    {
     "data": {
      "image/png": "[encoded data removed]",
      "text/plain": [
       "<matplotlib.figure.Figure at 0x1a1c71de48>"
      ]
     },
     "metadata": {},
     "output_type": "display_data"
    },
    {
     "data": {
      "image/png": "[encoded data removed]",
      "text/plain": [
       "<matplotlib.figure.Figure at 0x1a1c7c9e10>"
      ]
     },
     "metadata": {},
     "output_type": "display_data"
    }
   ],
   "source": [
    "### Principal Component Plots:\n",
    "\n",
    "from sklearn.decomposition import PCA\n",
    "from sklearn.preprocessing import StandardScaler\n",
    "import numpy as np\n",
    "import matplotlib.pyplot as plt\n",
    "plt.style.use('ggplot')\n",
    "plt.figure(figsize=(14,7))\n",
    " \n",
    " \n",
    "rng = np.random.RandomState(5)\n",
    "X = np.dot(rng.rand(10, 10), rng.randn(10, 200)).T\n",
    "X_scaled= StandardScaler().fit_transform(X)\n",
    " \n",
    "plt.subplot(1, 2, 1)\n",
    "plt.scatter(X_scaled[:, 0],  X_scaled[:, 1], marker='*', s=50)\n",
    "plt.title(\"Before Principal Components (PC)\", fontsize=20)\n",
    " \n",
    "pca = PCA(n_components=4)\n",
    "pca.fit(X_scaled)\n",
    "X_pca = pca.transform(X_scaled)\n",
    " \n",
    "plt.subplot(1, 2, 2)\n",
    "plt.scatter(X_pca[:, 0],  X_pca[:, 1], marker='*', s=50)\n",
    "plt.title(\"After Principal Components (PC)\", fontsize=20)\n",
    "plt.show()\n",
    " \n",
    "X_new = pca.inverse_transform(X_pca)\n",
    "plt.scatter(X_new[:, 0], X_new[:, 1], marker='*', s=50)\n",
    "plt.title(\"After Inverse Transform (PC)\", fontsize=20)\n",
    "plt.show()"
   ]
  },
  {
   "cell_type": "code",
   "execution_count": 10,
   "metadata": {},
   "outputs": [
    {
     "name": "stderr",
     "output_type": "stream",
     "text": [
      "/anaconda3/lib/python3.6/site-packages/ipykernel_launcher.py:13: DeprecationWarning: \n",
      ".ix is deprecated. Please use\n",
      ".loc for label based indexing or\n",
      ".iloc for positional indexing\n",
      "\n",
      "See the documentation here:\n",
      "http://pandas.pydata.org/pandas-docs/stable/indexing.html#ix-indexer-is-deprecated\n",
      "  del sys.path[0]\n"
     ]
    },
    {
     "data": {
      "image/png": "[encoded data removed]",
      "text/plain": [
       "<matplotlib.figure.Figure at 0x1a1ca31c50>"
      ]
     },
     "metadata": {},
     "output_type": "display_data"
    }
   ],
   "source": [
    "## Full Fleged PCA with Iris dataset\n",
    "import pandas as pd\n",
    "from sklearn.preprocessing import StandardScaler\n",
    "from sklearn.decomposition import PCA \n",
    "import matplotlib.pyplot as plt\n",
    "plt.style.use('ggplot')\n",
    "plt.figure(figsize=(6, 5))\n",
    " \n",
    "df = pd.read_csv(filepath_or_buffer='https://archive.ics.uci.edu/ml/machine-learning-databases/iris/iris.data',header=None, sep=',')\n",
    "df.columns=['sepal length', 'sepal width', 'petal length', 'petal width', 'species']\n",
    "df.dropna(how=\"all\", inplace=True) # drops the empty line at file-end\n",
    " \n",
    "X = df.ix[:,0:4].values\n",
    "y = df.ix[:,4].values\n",
    " \n",
    " \n",
    "X_scaled = StandardScaler().fit_transform(X)\n",
    " \n",
    "pca = PCA(n_components=2)\n",
    "Y_fitted = pca.fit_transform(X_scaled)\n",
    " \n",
    " \n",
    "for labels, columns in zip(('Iris-setosa', 'Iris-versicolor', 'Iris-virginica'),('red', 'green', 'blue')):\n",
    "    plt.scatter(Y_fitted[y==labels, 0],Y_fitted[y==labels, 1],label=labels,c=columns,marker='*', s=50)\n",
    "    \n",
    "plt.xlabel('Principal Component 1')\n",
    "plt.ylabel('Principal Component 2')\n",
    "plt.legend(loc='best')\n",
    "plt.title(\"PCA On Iris Data\", fontsize=20)\n",
    "plt.show()\n"
   ]
  },
  {
   "cell_type": "code",
   "execution_count": null,
   "metadata": {},
   "outputs": [],
   "source": []
  },
  {
   "cell_type": "markdown",
   "metadata": {},
   "source": [
    "#### Prerequisite for the PCA. \n",
    "* The data set used for Python is a cleaned version\n",
    "* where missing values have been imputed and categorical variables are converted into numeric.\n"
   ]
  },
  {
   "cell_type": "code",
   "execution_count": 17,
   "metadata": {},
   "outputs": [
    {
     "name": "stdout",
     "output_type": "stream",
     "text": [
      "[ 92.46  97.76  99.48 100.  ]\n"
     ]
    },
    {
     "data": {
      "text/plain": [
       "[<matplotlib.lines.Line2D at 0x1a1d348a90>]"
      ]
     },
     "execution_count": 17,
     "metadata": {},
     "output_type": "execute_result"
    },
    {
     "data": {
      "image/png": "[encoded data removed]",
      "text/plain": [
       "<matplotlib.figure.Figure at 0x1a1d1e7b70>"
      ]
     },
     "metadata": {},
     "output_type": "display_data"
    }
   ],
   "source": [
    "###. Now if I want to check how many PCA should I be looking into. Lets check that out\n",
    "import numpy as np\n",
    "from sklearn.decomposition import PCA\n",
    "import pandas as pd\n",
    "import matplotlib.pyplot as plt\n",
    "from sklearn.preprocessing import scale\n",
    "%matplotlib inline\n",
    "\n",
    "# Getting the dataset.\n",
    "df = pd.read_csv(filepath_or_buffer='https://archive.ics.uci.edu/ml/machine-learning-databases/iris/iris.data',header=None, sep=',')\n",
    "df.columns=['sepal length', 'sepal width', 'petal length', 'petal width', 'species']\n",
    "df.dropna(how=\"all\", inplace=True) # drops the empty line at file-end\n",
    " \n",
    "X = df.iloc[:,0:4].values\n",
    "y = df.iloc[:,4].values\n",
    " \n",
    " \n",
    "X_scaled = StandardScaler().fit_transform(X)\n",
    " \n",
    "pca = PCA(n_components=4)      # for checking sake, checking the optimal PCA to consider\n",
    "\n",
    "pca.fit(X)\n",
    "\n",
    "\n",
    "#The amount of variance that each PC explains\n",
    "var= pca.explained_variance_ratio_\n",
    "\n",
    "#Cumulative Variance explains\n",
    "var1=np.cumsum(np.round(pca.explained_variance_ratio_, decimals=4)*100)\n",
    "\n",
    "print (var1)\n",
    "plt.plot(var1)"
   ]
  },
  {
   "cell_type": "code",
   "execution_count": null,
   "metadata": {},
   "outputs": [],
   "source": [
    "## by looking at the above graph we can clearly decide which PCA should we consider for our analysis."
   ]
  },
  {
   "cell_type": "code",
   "execution_count": 23,
   "metadata": {},
   "outputs": [
    {
     "data": {
      "text/plain": [
       "array([0.92461621, 0.05301557, 0.01718514, 0.00518309])"
      ]
     },
     "execution_count": 23,
     "metadata": {},
     "output_type": "execute_result"
    }
   ],
   "source": [
    "# Explained Variance : The explained variance tells you how much information (variance) can be attributed to\n",
    "### each of the principal components.   \n",
    "pca.explained_variance_ratio_"
   ]
  },
  {
   "cell_type": "code",
   "execution_count": null,
   "metadata": {},
   "outputs": [],
   "source": []
  },
  {
   "cell_type": "markdown",
   "metadata": {},
   "source": [
    "The images that you downloaded are contained in mnist.data and has a shape of (70000, 784) meaning there are 70,000 images with 784 dimensions (784 features).\n",
    "The labels (the integers 0–9) are contained in mnist.target. The features are 784 dimensional (28 x 28 images) and the labels are simply numbers from 0–9."
   ]
  },
  {
   "cell_type": "markdown",
   "metadata": {},
   "source": [
    "[link for further reading the example](https://towardsdatascience.com/pca-using-python-scikit-learn-e653f8989e60)"
   ]
  },
  {
   "cell_type": "markdown",
   "metadata": {},
   "source": [
    "### A Summary of the PCA Approach\n",
    "\n",
    "* Standardize the data.\n",
    "* Obtain the Eigenvectors and Eigenvalues from the covariance matrix or correlation matrix, or perform Singular Vector Decomposition.\n",
    "* Sort eigenvalues in descending order and choose the k eigenvectors that correspond to the k largest eigenvalues where k is the number of dimensions of the new feature subspace (k≤d)/.\n",
    "* Construct the projection matrix W from the selected k eigenvectors.\n",
    "* Transform the original dataset X via W to obtain a k-dimensional feature subspace Y."
   ]
  },
  {
   "cell_type": "markdown",
   "metadata": {},
   "source": [
    "##### Concluding Remarks\n",
    "The sheer size of data in the modern age is not only a challenge for computer hardware but also a main bottleneck for the performance of many machine learning algorithms.\n",
    "\n",
    "*  The main goal of a PCA analysis is to identify patterns in data\n",
    "* PCA aims to detect the correlation between variables\n",
    "* If a strong correlation between variables exists, the attempt to reduce the dimensionality only makes sense.\n",
    "*  In a nutshell, this is what PCA is all about :\n",
    "    Finding the directions of maximum variance in high-dimensional data and project it onto a smaller dimensional subspace while retaining most of the information.\n",
    "        "
   ]
  },
  {
   "cell_type": "markdown",
   "metadata": {},
   "source": [
    "#### PCA Vs. LDA\n",
    "* Both Linear Discriminant Analysis (LDA) and PCA are linear transformation methods\n",
    "* PCA yields the directions (principal components) that maximize the variance of the data, whereas LDA also aims to find the directions that maximize the separation (or discrimination) between different classes, which can be useful in pattern classification problem (PCA \"ignores\" class labels).\n",
    "* In other words, PCA projects the entire dataset onto a different feature (sub)space, and LDA tries to determine a suitable feature (sub)space in order to distinguish between patterns that belong to different classes."
   ]
  },
  {
   "cell_type": "code",
   "execution_count": null,
   "metadata": {},
   "outputs": [],
   "source": []
  },
  {
   "cell_type": "code",
   "execution_count": null,
   "metadata": {},
   "outputs": [],
   "source": [
    "\n",
    "from sklearn.datasets import load_iris\n",
    "from sklearn import metrics\n",
    "from sklearn.ensemble import RandomForestClassifier\n",
    "from sklearn.cross_validation import train_test_split\n",
    " \n",
    "df = load_iris()\n",
    "X = df.data\n",
    "y = df.target\n",
    " \n",
    "X_train, X_test, y_train, y_test = train_test_split(X, y, test_size=0.4, random_state=4)\n",
    " \n",
    "rf_algorithm = RandomForestClassifier()\n",
    " \n",
    "rf_algorithm.fit(X_train, y_train)\n",
    "y_pred = rf_algorithm.predict(X_test)\n",
    "print(\"Prediction\\n\\n\",y_pred)\n",
    "print(\"\\n\\nAccuracy Score\\n\\n\",metrics.accuracy_score(y_test, y_pred))"
   ]
  },
  {
   "cell_type": "code",
   "execution_count": 26,
   "metadata": {},
   "outputs": [
    {
     "name": "stderr",
     "output_type": "stream",
     "text": [
      "/anaconda3/lib/python3.6/site-packages/sklearn/cross_validation.py:41: DeprecationWarning: This module was deprecated in version 0.18 in favor of the model_selection module into which all the refactored classes and functions are moved. Also note that the interface of the new CV iterators are different from that of this module. This module will be removed in 0.20.\n",
      "  \"This module will be removed in 0.20.\", DeprecationWarning)\n"
     ]
    }
   ],
   "source": [
    "from sklearn.datasets import load_iris\n",
    "from sklearn import metrics\n",
    "from sklearn.ensemble import RandomForestClassifier\n",
    "from sklearn.cross_validation import train_test_split\n",
    " \n",
    "df = load_iris()\n",
    "X = df.data"
   ]
  },
  {
   "cell_type": "code",
   "execution_count": 30,
   "metadata": {},
   "outputs": [],
   "source": [
    "\n",
    "X_train, X_test, y_train, y_test = train_test_split(X, y, test_size=0.4, random_state=4)"
   ]
  },
  {
   "cell_type": "code",
   "execution_count": 42,
   "metadata": {},
   "outputs": [],
   "source": [
    "\n",
    "rf_algorithm = RandomForestClassifier()\n",
    "\n",
    "rf_algorithm.fit(X_train, y_train)\n",
    "y_pred = rf_algorithm.predict(X_test)"
   ]
  },
  {
   "cell_type": "code",
   "execution_count": 39,
   "metadata": {},
   "outputs": [
    {
     "data": {
      "text/plain": [
       "array([2, 0, 2, 2, 2, 1, 1, 0, 0, 1, 0, 0, 0, 1, 2, 0, 1, 0, 0, 2, 0, 2,\n",
       "       1, 0, 0, 0, 0, 0, 0, 2, 1, 0, 2, 0, 1, 2, 2, 1, 1, 0, 2, 0, 1, 0,\n",
       "       2, 0, 0, 1, 1, 2, 0, 1, 2, 2, 1, 1, 0, 1, 1, 1])"
      ]
     },
     "execution_count": 39,
     "metadata": {},
     "output_type": "execute_result"
    }
   ],
   "source": [
    "y_pred"
   ]
  },
  {
   "cell_type": "code",
   "execution_count": 40,
   "metadata": {},
   "outputs": [
    {
     "data": {
      "text/plain": [
       "array([2, 0, 2, 2, 2, 1, 1, 0, 0, 2, 0, 0, 0, 1, 2, 0, 1, 0, 0, 2, 0, 2,\n",
       "       1, 0, 0, 0, 0, 0, 0, 2, 1, 0, 2, 0, 1, 2, 2, 1, 1, 0, 2, 0, 1, 0,\n",
       "       2, 0, 0, 1, 1, 2, 0, 1, 2, 2, 1, 1, 0, 1, 2, 1])"
      ]
     },
     "execution_count": 40,
     "metadata": {},
     "output_type": "execute_result"
    }
   ],
   "source": [
    "y_test"
   ]
  },
  {
   "cell_type": "code",
   "execution_count": 41,
   "metadata": {},
   "outputs": [
    {
     "name": "stdout",
     "output_type": "stream",
     "text": [
      "\n",
      "\n",
      "Accuracy Score\n",
      "\n",
      " 0.9666666666666667\n"
     ]
    }
   ],
   "source": [
    "print(\"\\n\\nAccuracy Score\\n\\n\",metrics.accuracy_score(y_test, y_pred))"
   ]
  },
  {
   "cell_type": "code",
   "execution_count": 43,
   "metadata": {},
   "outputs": [],
   "source": [
    "def calculate_accuracy(original, test):\n",
    "    count_total = 0.0\n",
    "    count_right = 0.0\n",
    "    for i in range(len(original)):\n",
    "        count_total += 1\n",
    "        if original[i] == test[i]:\n",
    "            count_right += 1\n",
    "    return count_right / count_total"
   ]
  },
  {
   "cell_type": "code",
   "execution_count": 48,
   "metadata": {},
   "outputs": [
    {
     "data": {
      "text/plain": [
       "0.95"
      ]
     },
     "execution_count": 48,
     "metadata": {},
     "output_type": "execute_result"
    }
   ],
   "source": [
    "calculate_accuracy(y_pred, y_test)"
   ]
  },
  {
   "cell_type": "code",
   "execution_count": null,
   "metadata": {},
   "outputs": [],
   "source": [
    "model.oob_score_ "
   ]
  }
 ],
 "metadata": {
  "kernelspec": {
   "display_name": "Python 3",
   "language": "python",
   "name": "python3"
  },
  "language_info": {
   "codemirror_mode": {
    "name": "ipython",
    "version": 3
   },
   "file_extension": ".py",
   "mimetype": "text/x-python",
   "name": "python",
   "nbconvert_exporter": "python",
   "pygments_lexer": "ipython3",
   "version": "3.6.4"
  }
 },
 "nbformat": 4,
 "nbformat_minor": 2
}
